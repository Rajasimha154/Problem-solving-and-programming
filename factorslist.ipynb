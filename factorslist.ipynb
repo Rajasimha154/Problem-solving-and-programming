{
 "cells": [
  {
   "cell_type": "code",
   "execution_count": 1,
   "metadata": {},
   "outputs": [
    {
     "ename": "SyntaxError",
     "evalue": "invalid syntax (<ipython-input-1-688822dc92ba>, line 1)",
     "output_type": "error",
     "traceback": [
      "\u001b[1;36m  File \u001b[1;32m\"<ipython-input-1-688822dc92ba>\"\u001b[1;36m, line \u001b[1;32m1\u001b[0m\n\u001b[1;33m    def print Even(n):\u001b[0m\n\u001b[1;37m                 ^\u001b[0m\n\u001b[1;31mSyntaxError\u001b[0m\u001b[1;31m:\u001b[0m invalid syntax\n"
     ]
    }
   ],
   "source": [
    "def print Even(n):\n",
    "    cnt = 0;\n",
    "    sum = 0;\n",
    "    while(cnt!=n):\n",
    "        if(cnt%2==0):\n",
    "        sum = sum  +  cnt;\n",
    "        cnt = cnt  +   1;\n",
    "        return sum;\n",
    "    \n",
    "print()"
   ]
  },
  {
   "cell_type": "markdown",
   "metadata": {},
   "source": [
    "## Example "
   ]
  },
  {
   "cell_type": "code",
   "execution_count": 1,
   "metadata": {},
   "outputs": [
    {
     "name": "stdout",
     "output_type": "stream",
     "text": [
      "1 2 3 4 6 "
     ]
    }
   ],
   "source": [
    "def factorsList(n):\n",
    "    i = 1;\n",
    "    while(i!=n):\n",
    "        if(n%i==0):\n",
    "            print(i,end=\" \");\n",
    "        i = i + 1;\n",
    "    return ;\n",
    "        \n",
    "factorsList(12)"
   ]
  },
  {
   "cell_type": "markdown",
   "metadata": {},
   "source": [
    "## List in Python"
   ]
  },
  {
   "cell_type": "markdown",
   "metadata": {},
   "source": [
    "### List can be written in python with square brackets and each item in the list seperated by comma operator"
   ]
  },
  {
   "cell_type": "markdown",
   "metadata": {},
   "source": [
    "##### Examples of List"
   ]
  },
  {
   "cell_type": "code",
   "execution_count": 5,
   "metadata": {},
   "outputs": [
    {
     "name": "stdout",
     "output_type": "stream",
     "text": [
      "[1, 2, 3, 4, 5]\n",
      "1\n"
     ]
    }
   ],
   "source": [
    "list1 = [1,2,3,4,5];\n",
    "#Entire List\n",
    "print(list1);\n",
    "#list[0]\n",
    "print(list1[0])"
   ]
  },
  {
   "cell_type": "code",
   "execution_count": 6,
   "metadata": {},
   "outputs": [
    {
     "name": "stdout",
     "output_type": "stream",
     "text": [
      "['Akhil', 'Arvind', 'Anil']\n",
      "Akhil\n"
     ]
    }
   ],
   "source": [
    "list2 =[\"Akhil\",\"Arvind\",\"Anil\"];\n",
    "#Entire List\n",
    "print(list2);\n",
    "#list[0]\n",
    "print(list2[0])"
   ]
  },
  {
   "cell_type": "code",
   "execution_count": 7,
   "metadata": {},
   "outputs": [
    {
     "name": "stdout",
     "output_type": "stream",
     "text": [
      "1 2 3 4 5 6 7 \n",
      "5\n",
      "[4, 5, 6, 7]\n",
      "[1, 2, 3]\n",
      "[1, 2, 3]\n",
      "[1, 2, 3, 4, 5, 6, 7]\n"
     ]
    }
   ],
   "source": [
    "# List example with particular index\n",
    "lst1 = [1,2,3,4,5,6,7]\n",
    "for x in lst1:\n",
    "    print(x,end=\" \")\n",
    "    \n",
    "print();\n",
    "print(lst1[4]);\n",
    "print(lst1[3:7]);\n",
    "print(lst1[0:3]);\n",
    "print(lst1[:3]);\n",
    "print(lst1[:7]);"
   ]
  },
  {
   "cell_type": "code",
   "execution_count": 9,
   "metadata": {},
   "outputs": [
    {
     "name": "stdout",
     "output_type": "stream",
     "text": [
      "1 2 3 4 5 6 7 8 9 10 \n",
      "[2, 3, 4, 5, 6, 7, 8, 9]\n",
      "[3, 4, 5, 6, 7, 8]\n",
      "[1, 3, 5, 7, 9]\n",
      "[1, 4, 7, 10]\n",
      "[1, 5, 9]\n",
      "[10, 8, 6, 4, 2]\n",
      "10\n",
      "9\n"
     ]
    }
   ],
   "source": [
    "lst1 = [1,2,3,4,5,6,7,8,9,10]\n",
    "for x in lst1:\n",
    "    print(x,end=\" \")\n",
    "    \n",
    "    \n",
    "print();\n",
    "print(lst1[1:-1]);\n",
    "print(lst1[2:-2]);\n",
    "print(lst1[::2]);\n",
    "print(lst1[::3]);\n",
    "print(lst1[::4]);\n",
    "print(lst1[::-2]print(lst1[-1]);\n",
    "print(lst1[-2]);"
   ]
  },
  {
   "cell_type": "code",
   "execution_count": null,
   "metadata": {},
   "outputs": [],
   "source": [
    "lst1 = [\"Anil\",\"Adarsh\",\"Akhil\",1];\n",
    "print(lst1);\n",
    "lst1[2] = 15;# update the list item\n",
    "print(lst1);\n",
    "del lst1[3];# delete the list item\n",
    "print(lst1);\n",
    "lst1[1] = \"Gitam\";\n",
    "print(lst1);\n",
    "lst2 = [1,2,3];\n",
    "print(lst2);\n"
   ]
  },
  {
   "cell_type": "markdown",
   "metadata": {},
   "source": [
    "### List Methods\n",
    "\n",
    "#### index(obj)\n",
    "\n",
    "Its returns the index of passed object first occurance from the left side."
   ]
  },
  {
   "cell_type": "code",
   "execution_count": 29,
   "metadata": {},
   "outputs": [
    {
     "name": "stdout",
     "output_type": "stream",
     "text": [
      "['Gitam', 'Python', 'Raptor', 1, 5, 'Python', 'Python']\n",
      "7\n",
      "['Gitam', 'Python', 2019, 'Raptor', 1, 5, 'Python', 'Python']\n",
      "8\n",
      "['Gitam', 'Python', 2019, 'Raptor', 2020, 1, 5, 'Python', 'Python']\n"
     ]
    }
   ],
   "source": [
    "lst1 = [\"Gitam\",\"Python\",\"Raptor\",1,5,\"Python\",\"Python\"]\n",
    "print(lst1)\n",
    "lst1.index (\"Python\") #Finding the index of object in the last\n",
    "print(len(lst1))\n",
    "lst1.insert(2,2019) \n",
    "print(lst1)\n",
    "print(len(lst1))\n",
    "lst1.insert(4,2020)\n",
    "print(lst1)\n",
    " "
   ]
  },
  {
   "cell_type": "markdown",
   "metadata": {},
   "source": [
    "## List with range () function"
   ]
  },
  {
   "cell_type": "code",
   "execution_count": 31,
   "metadata": {},
   "outputs": [
    {
     "name": "stdout",
     "output_type": "stream",
     "text": [
      "['Gitam', 'Python', 'Raptor', 1, 5, 'Python', 'Python']\n",
      "['Gitam', 'Raptor', 1, 5, 'Python', 'Python']\n",
      "['Python', 'Python', 5, 1, 'Raptor', 'Gitam']\n"
     ]
    }
   ],
   "source": [
    "lst1 =[\"Gitam\",\"Python\",\"Raptor\",1,5,\"Python\",\"Python\"]\n",
    "print(lst1)\n",
    "lst1.remove(\"Python\")\n",
    "print(lst1)\n",
    "lst1.reverse()\n",
    "print(lst1)\n"
   ]
  },
  {
   "cell_type": "code",
   "execution_count": 54,
   "metadata": {},
   "outputs": [
    {
     "name": "stdout",
     "output_type": "stream",
     "text": [
      "Target item is not found\n"
     ]
    }
   ],
   "source": [
    "def linearsearch(a,tarItem):\n",
    "    flag = 0;\n",
    "    for i in range(len(a)):\n",
    "        if a[i]==tarItem:\n",
    "            flag = 1;\n",
    "            break\n",
    "    if(flag!=0):\n",
    "           print(\"Target item is found\")\n",
    "    else:\n",
    "           print(\"Target item is not found\")\n",
    "a = [16,2,12,6,9,7,1]\n",
    "linearsearch(a,61)\n",
    "              "
   ]
  },
  {
   "cell_type": "code",
   "execution_count": 61,
   "metadata": {},
   "outputs": [
    {
     "name": "stdout",
     "output_type": "stream",
     "text": [
      "2\n"
     ]
    }
   ],
   "source": [
    "def linearsearchDuplicate(a,tarItem):\n",
    "    flag = 0\n",
    "    for i in range(len(a)):\n",
    "        if a[i] == tarItem:\n",
    "            flag = flag + 1\n",
    "    print(flag)\n",
    "a = [9,1,6,1,5,9,15,16]\n",
    "linearsearchDuplicate(a,9)\n",
    "    "
   ]
  },
  {
   "cell_type": "markdown",
   "metadata": {},
   "source": [
    "#### Linear Search Example 2"
   ]
  },
  {
   "cell_type": "code",
   "execution_count": 64,
   "metadata": {},
   "outputs": [
    {
     "name": "stdout",
     "output_type": "stream",
     "text": [
      "! !  ! ! ! ! !  ! ! ! ! ! ! ! !  "
     ]
    }
   ],
   "source": [
    "def linearsearch(a,tarItem):\n",
    "    for i in range(len(a)):\n",
    "        if a[i] == tarItem:\n",
    "            j=0\n",
    "            while j!= i+1:\n",
    "                print(\"!\",end=\" \")\n",
    "                j=j+1\n",
    "            print(end = \" \")\n",
    "            \n",
    "a = [1,5,9,6,5,15,12,5]\n",
    "linearsearch(a,5)\n",
    "    \n",
    "  "
   ]
  },
  {
   "cell_type": "markdown",
   "metadata": {},
   "source": [
    "#### Linear Search Example 3"
   ]
  },
  {
   "cell_type": "code",
   "execution_count": 104,
   "metadata": {},
   "outputs": [
    {
     "ename": "IndentationError",
     "evalue": "expected an indented block (<ipython-input-104-b84b5f71dd58>, line 6)",
     "output_type": "error",
     "traceback": [
      "\u001b[1;36m  File \u001b[1;32m\"<ipython-input-104-b84b5f71dd58>\"\u001b[1;36m, line \u001b[1;32m6\u001b[0m\n\u001b[1;33m    print(\"!\",end=\"  \")\u001b[0m\n\u001b[1;37m        ^\u001b[0m\n\u001b[1;31mIndentationError\u001b[0m\u001b[1;31m:\u001b[0m expected an indented block\n"
     ]
    }
   ],
   "source": [
    "def linearformattedOutput(a):\n",
    "    for i in range(len(a)):\n",
    "        if 1 ==0 or i== (len(a)- 1):\n",
    "            print(a[i], a[i-1]);\n",
    "    while j!= i+1:\n",
    "    print(\"!\",end=\"  \")\n",
    "    j=j+1\n",
    "    print(end =\" \")\n",
    "a = [1,2,3,4,5]\n",
    "linearformattedOutput(a);\n"
   ]
  },
  {
   "cell_type": "code",
   "execution_count": 102,
   "metadata": {},
   "outputs": [
    {
     "name": "stdout",
     "output_type": "stream",
     "text": [
      "6 9 19 6 "
     ]
    }
   ],
   "source": [
    "def linearformattedoutput(a):\n",
    "    for i in range(len(a)):\n",
    "        if i==0 or (i == len(a)-1):\n",
    "            print(a[1],end =\" \")\n",
    "        elif a[i-1]%2==0 and a[i+1]%2==0:\n",
    "            print(a[i],end = \" \")             \n",
    "a = [1,6,9,4,16,19,22]\n",
    "linearformattedoutput(a);"
   ]
  },
  {
   "cell_type": "code",
   "execution_count": 1,
   "metadata": {},
   "outputs": [
    {
     "name": "stdout",
     "output_type": "stream",
     "text": [
      "Enter a number123\n",
      "[1, 2, 3]\n"
     ]
    }
   ],
   "source": [
    "def numberToListConversion(n):\n",
    "    lst = []\n",
    "    while n != 0:\n",
    "        r = n % 10\n",
    "    lst.append(r)\n",
    "        n = n//10\n",
    "    lst.reverse()\n",
    "    return lst\n",
    "    \n",
    "    \n",
    "n = int(input(\"Enter a number\"))\n",
    "print(numberToListConversion(n))"
   ]
  },
  {
   "cell_type": "markdown",
   "metadata": {},
   "source": [
    "### List to Number Conversion"
   ]
  },
  {
   "cell_type": "code",
   "execution_count": 6,
   "metadata": {},
   "outputs": [
    {
     "name": "stdout",
     "output_type": "stream",
     "text": [
      "1234"
     ]
    }
   ],
   "source": [
    "def ListToNumberConversion(n):\n",
    "    for i in range(len(n)):\n",
    "        if i==0 or (i == len(n)-1):\n",
    "             print(n[i],end=\"\")\n",
    "        elif n[i-1]%1==0 and n[i+1]%1==0:\n",
    "            print(n[i],end=\"\") \n",
    "n = [1,2,3,4]\n",
    "ListToNumberConversion(n)"
   ]
  },
  {
   "cell_type": "code",
   "execution_count": null,
   "metadata": {},
   "outputs": [],
   "source": [
    "def ListToNumberConversion(n):\n",
    "    for i in range(len(n)):\n",
    "        while i!= 0:\n",
    "            n[i]%2==0\n",
    "    print(n[i],end=\"\")\n",
    "n = [1,2,4,6]\n",
    "ListToNumberConversion(n)"
   ]
  },
  {
   "cell_type": "code",
   "execution_count": null,
   "metadata": {},
   "outputs": [],
   "source": []
  },
  {
   "cell_type": "code",
   "execution_count": null,
   "metadata": {},
   "outputs": [],
   "source": []
  }
 ],
 "metadata": {
  "kernelspec": {
   "display_name": "Python 3",
   "language": "python",
   "name": "python3"
  },
  "language_info": {
   "codemirror_mode": {
    "name": "ipython",
    "version": 3
   },
   "file_extension": ".py",
   "mimetype": "text/x-python",
   "name": "python",
   "nbconvert_exporter": "python",
   "pygments_lexer": "ipython3",
   "version": "3.7.3"
  }
 },
 "nbformat": 4,
 "nbformat_minor": 2
}
